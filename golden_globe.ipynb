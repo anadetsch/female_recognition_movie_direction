{
 "cells": [
  {
   "cell_type": "code",
   "execution_count": 1,
   "metadata": {},
   "outputs": [],
   "source": [
    "import pandas as pd"
   ]
  },
  {
   "cell_type": "code",
   "execution_count": 2,
   "metadata": {},
   "outputs": [],
   "source": [
    "golden_globe = pd.read_csv(\"golden_globe_awards.csv\")"
   ]
  },
  {
   "cell_type": "code",
   "execution_count": 10,
   "metadata": {},
   "outputs": [
    {
     "data": {
      "text/html": [
       "<div>\n",
       "<style scoped>\n",
       "    .dataframe tbody tr th:only-of-type {\n",
       "        vertical-align: middle;\n",
       "    }\n",
       "\n",
       "    .dataframe tbody tr th {\n",
       "        vertical-align: top;\n",
       "    }\n",
       "\n",
       "    .dataframe thead th {\n",
       "        text-align: right;\n",
       "    }\n",
       "</style>\n",
       "<table border=\"1\" class=\"dataframe\">\n",
       "  <thead>\n",
       "    <tr style=\"text-align: right;\">\n",
       "      <th></th>\n",
       "      <th>year_film</th>\n",
       "      <th>year_award</th>\n",
       "      <th>ceremony</th>\n",
       "      <th>category</th>\n",
       "      <th>nominee</th>\n",
       "      <th>film</th>\n",
       "      <th>win</th>\n",
       "    </tr>\n",
       "  </thead>\n",
       "  <tbody>\n",
       "    <tr>\n",
       "      <td>0</td>\n",
       "      <td>1943</td>\n",
       "      <td>1944</td>\n",
       "      <td>1</td>\n",
       "      <td>Best Performance by an Actress in a Supporting...</td>\n",
       "      <td>Katina Paxinou</td>\n",
       "      <td>For Whom The Bell Tolls</td>\n",
       "      <td>True</td>\n",
       "    </tr>\n",
       "    <tr>\n",
       "      <td>1</td>\n",
       "      <td>1943</td>\n",
       "      <td>1944</td>\n",
       "      <td>1</td>\n",
       "      <td>Best Performance by an Actor in a Supporting R...</td>\n",
       "      <td>Akim Tamiroff</td>\n",
       "      <td>For Whom The Bell Tolls</td>\n",
       "      <td>True</td>\n",
       "    </tr>\n",
       "    <tr>\n",
       "      <td>2</td>\n",
       "      <td>1943</td>\n",
       "      <td>1944</td>\n",
       "      <td>1</td>\n",
       "      <td>Best Director - Motion Picture</td>\n",
       "      <td>Henry King</td>\n",
       "      <td>The Song Of Bernadette</td>\n",
       "      <td>True</td>\n",
       "    </tr>\n",
       "    <tr>\n",
       "      <td>3</td>\n",
       "      <td>1943</td>\n",
       "      <td>1944</td>\n",
       "      <td>1</td>\n",
       "      <td>Picture</td>\n",
       "      <td>The Song Of Bernadette</td>\n",
       "      <td>NaN</td>\n",
       "      <td>True</td>\n",
       "    </tr>\n",
       "    <tr>\n",
       "      <td>4</td>\n",
       "      <td>1943</td>\n",
       "      <td>1944</td>\n",
       "      <td>1</td>\n",
       "      <td>Actress In A Leading Role</td>\n",
       "      <td>Jennifer Jones</td>\n",
       "      <td>The Song Of Bernadette</td>\n",
       "      <td>True</td>\n",
       "    </tr>\n",
       "    <tr>\n",
       "      <td>...</td>\n",
       "      <td>...</td>\n",
       "      <td>...</td>\n",
       "      <td>...</td>\n",
       "      <td>...</td>\n",
       "      <td>...</td>\n",
       "      <td>...</td>\n",
       "      <td>...</td>\n",
       "    </tr>\n",
       "    <tr>\n",
       "      <td>7986</td>\n",
       "      <td>2019</td>\n",
       "      <td>2020</td>\n",
       "      <td>77</td>\n",
       "      <td>Best Performance by an Actor in a Supporting R...</td>\n",
       "      <td>Kieran Culkin</td>\n",
       "      <td>Succession</td>\n",
       "      <td>False</td>\n",
       "    </tr>\n",
       "    <tr>\n",
       "      <td>7987</td>\n",
       "      <td>2019</td>\n",
       "      <td>2020</td>\n",
       "      <td>77</td>\n",
       "      <td>Best Performance by an Actor in a Supporting R...</td>\n",
       "      <td>Andrew Scott</td>\n",
       "      <td>Fleabag</td>\n",
       "      <td>False</td>\n",
       "    </tr>\n",
       "    <tr>\n",
       "      <td>7988</td>\n",
       "      <td>2019</td>\n",
       "      <td>2020</td>\n",
       "      <td>77</td>\n",
       "      <td>Best Performance by an Actor in a Supporting R...</td>\n",
       "      <td>Henry Winkler</td>\n",
       "      <td>Barry</td>\n",
       "      <td>False</td>\n",
       "    </tr>\n",
       "    <tr>\n",
       "      <td>7989</td>\n",
       "      <td>2019</td>\n",
       "      <td>2020</td>\n",
       "      <td>77</td>\n",
       "      <td>Cecil B. deMille Award</td>\n",
       "      <td>Tom Hanks</td>\n",
       "      <td>NaN</td>\n",
       "      <td>False</td>\n",
       "    </tr>\n",
       "    <tr>\n",
       "      <td>7990</td>\n",
       "      <td>2019</td>\n",
       "      <td>2020</td>\n",
       "      <td>77</td>\n",
       "      <td>Carol Burnett Award</td>\n",
       "      <td>Ellen DeGeneres</td>\n",
       "      <td>NaN</td>\n",
       "      <td>False</td>\n",
       "    </tr>\n",
       "  </tbody>\n",
       "</table>\n",
       "<p>7991 rows × 7 columns</p>\n",
       "</div>"
      ],
      "text/plain": [
       "      year_film  year_award  ceremony  \\\n",
       "0          1943        1944         1   \n",
       "1          1943        1944         1   \n",
       "2          1943        1944         1   \n",
       "3          1943        1944         1   \n",
       "4          1943        1944         1   \n",
       "...         ...         ...       ...   \n",
       "7986       2019        2020        77   \n",
       "7987       2019        2020        77   \n",
       "7988       2019        2020        77   \n",
       "7989       2019        2020        77   \n",
       "7990       2019        2020        77   \n",
       "\n",
       "                                               category  \\\n",
       "0     Best Performance by an Actress in a Supporting...   \n",
       "1     Best Performance by an Actor in a Supporting R...   \n",
       "2                        Best Director - Motion Picture   \n",
       "3                                               Picture   \n",
       "4                             Actress In A Leading Role   \n",
       "...                                                 ...   \n",
       "7986  Best Performance by an Actor in a Supporting R...   \n",
       "7987  Best Performance by an Actor in a Supporting R...   \n",
       "7988  Best Performance by an Actor in a Supporting R...   \n",
       "7989                             Cecil B. deMille Award   \n",
       "7990                                Carol Burnett Award   \n",
       "\n",
       "                     nominee                     film    win  \n",
       "0             Katina Paxinou  For Whom The Bell Tolls   True  \n",
       "1              Akim Tamiroff  For Whom The Bell Tolls   True  \n",
       "2                 Henry King   The Song Of Bernadette   True  \n",
       "3     The Song Of Bernadette                      NaN   True  \n",
       "4             Jennifer Jones   The Song Of Bernadette   True  \n",
       "...                      ...                      ...    ...  \n",
       "7986           Kieran Culkin               Succession  False  \n",
       "7987            Andrew Scott                  Fleabag  False  \n",
       "7988           Henry Winkler                    Barry  False  \n",
       "7989               Tom Hanks                      NaN  False  \n",
       "7990         Ellen DeGeneres                      NaN  False  \n",
       "\n",
       "[7991 rows x 7 columns]"
      ]
     },
     "execution_count": 10,
     "metadata": {},
     "output_type": "execute_result"
    }
   ],
   "source": [
    "golden_globe.head(10000)"
   ]
  },
  {
   "cell_type": "code",
   "execution_count": 7,
   "metadata": {},
   "outputs": [
    {
     "data": {
      "text/plain": [
       "False    6166\n",
       "True     1825\n",
       "Name: win, dtype: int64"
      ]
     },
     "execution_count": 7,
     "metadata": {},
     "output_type": "execute_result"
    }
   ],
   "source": [
    "golden_globe[\"win\"].value_counts()"
   ]
  },
  {
   "cell_type": "code",
   "execution_count": 9,
   "metadata": {},
   "outputs": [
    {
     "data": {
      "text/plain": [
       "30    150\n",
       "34    141\n",
       "40    137\n",
       "36    132\n",
       "59    131\n",
       "     ... \n",
       "6      13\n",
       "4       8\n",
       "3       7\n",
       "1       6\n",
       "2       6\n",
       "Name: ceremony, Length: 77, dtype: int64"
      ]
     },
     "execution_count": 9,
     "metadata": {},
     "output_type": "execute_result"
    }
   ],
   "source": [
    "golden_globe[\"ceremony\"].value_counts()"
   ]
  },
  {
   "cell_type": "code",
   "execution_count": null,
   "metadata": {},
   "outputs": [],
   "source": []
  }
 ],
 "metadata": {
  "kernelspec": {
   "display_name": "Python 3",
   "language": "python",
   "name": "python3"
  },
  "language_info": {
   "codemirror_mode": {
    "name": "ipython",
    "version": 3
   },
   "file_extension": ".py",
   "mimetype": "text/x-python",
   "name": "python",
   "nbconvert_exporter": "python",
   "pygments_lexer": "ipython3",
   "version": "3.7.4"
  }
 },
 "nbformat": 4,
 "nbformat_minor": 2
}
