{
 "cells": [
  {
   "cell_type": "code",
   "execution_count": 1,
   "metadata": {},
   "outputs": [],
   "source": [
    "import pandas as pd"
   ]
  },
  {
   "cell_type": "code",
   "execution_count": 3,
   "metadata": {},
   "outputs": [],
   "source": [
    "academy_awards = pd.read_csv(\"oscar_until_2017.csv\")"
   ]
  },
  {
   "cell_type": "code",
   "execution_count": 5,
   "metadata": {},
   "outputs": [
    {
     "data": {
      "text/html": [
       "<div>\n",
       "<style scoped>\n",
       "    .dataframe tbody tr th:only-of-type {\n",
       "        vertical-align: middle;\n",
       "    }\n",
       "\n",
       "    .dataframe tbody tr th {\n",
       "        vertical-align: top;\n",
       "    }\n",
       "\n",
       "    .dataframe thead th {\n",
       "        text-align: right;\n",
       "    }\n",
       "</style>\n",
       "<table border=\"1\" class=\"dataframe\">\n",
       "  <thead>\n",
       "    <tr style=\"text-align: right;\">\n",
       "      <th></th>\n",
       "      <th>year</th>\n",
       "      <th>category</th>\n",
       "      <th>winner</th>\n",
       "      <th>entity</th>\n",
       "    </tr>\n",
       "  </thead>\n",
       "  <tbody>\n",
       "    <tr>\n",
       "      <td>0</td>\n",
       "      <td>1927</td>\n",
       "      <td>ACTOR</td>\n",
       "      <td>False</td>\n",
       "      <td>Richard Barthelmess</td>\n",
       "    </tr>\n",
       "    <tr>\n",
       "      <td>1</td>\n",
       "      <td>1927</td>\n",
       "      <td>ACTOR</td>\n",
       "      <td>True</td>\n",
       "      <td>Emil Jannings</td>\n",
       "    </tr>\n",
       "    <tr>\n",
       "      <td>2</td>\n",
       "      <td>1927</td>\n",
       "      <td>ACTRESS</td>\n",
       "      <td>False</td>\n",
       "      <td>Louise Dresser</td>\n",
       "    </tr>\n",
       "    <tr>\n",
       "      <td>3</td>\n",
       "      <td>1927</td>\n",
       "      <td>ACTRESS</td>\n",
       "      <td>True</td>\n",
       "      <td>Janet Gaynor</td>\n",
       "    </tr>\n",
       "    <tr>\n",
       "      <td>4</td>\n",
       "      <td>1927</td>\n",
       "      <td>ACTRESS</td>\n",
       "      <td>False</td>\n",
       "      <td>Gloria Swanson</td>\n",
       "    </tr>\n",
       "    <tr>\n",
       "      <td>...</td>\n",
       "      <td>...</td>\n",
       "      <td>...</td>\n",
       "      <td>...</td>\n",
       "      <td>...</td>\n",
       "    </tr>\n",
       "    <tr>\n",
       "      <td>11053</td>\n",
       "      <td>2017</td>\n",
       "      <td>SCIENTIFIC AND TECHNICAL AWARD (Scientific and...</td>\n",
       "      <td>True</td>\n",
       "      <td>To LEONARD CHAPMAN for the overall concept, de...</td>\n",
       "    </tr>\n",
       "    <tr>\n",
       "      <td>11054</td>\n",
       "      <td>2017</td>\n",
       "      <td>SCIENTIFIC AND TECHNICAL AWARD (Technical Achi...</td>\n",
       "      <td>True</td>\n",
       "      <td>To JASON SMITH and JEFF WHITE for the original...</td>\n",
       "    </tr>\n",
       "    <tr>\n",
       "      <td>11055</td>\n",
       "      <td>2017</td>\n",
       "      <td>SCIENTIFIC AND TECHNICAL AWARD (Technical Achi...</td>\n",
       "      <td>True</td>\n",
       "      <td>To JOE MANCEWICZ, MATT DERKSEN and HANS RIJPKE...</td>\n",
       "    </tr>\n",
       "    <tr>\n",
       "      <td>11056</td>\n",
       "      <td>2017</td>\n",
       "      <td>SCIENTIFIC AND TECHNICAL AWARD (Technical Achi...</td>\n",
       "      <td>True</td>\n",
       "      <td>To ALEX POWELL for his contribution to the des...</td>\n",
       "    </tr>\n",
       "    <tr>\n",
       "      <td>11057</td>\n",
       "      <td>2017</td>\n",
       "      <td>SCIENTIFIC AND TECHNICAL AWARD (Technical Achi...</td>\n",
       "      <td>True</td>\n",
       "      <td>To ROB JENSEN for the foundational design and ...</td>\n",
       "    </tr>\n",
       "  </tbody>\n",
       "</table>\n",
       "<p>11058 rows × 4 columns</p>\n",
       "</div>"
      ],
      "text/plain": [
       "       year                                           category  winner  \\\n",
       "0      1927                                              ACTOR   False   \n",
       "1      1927                                              ACTOR    True   \n",
       "2      1927                                            ACTRESS   False   \n",
       "3      1927                                            ACTRESS    True   \n",
       "4      1927                                            ACTRESS   False   \n",
       "...     ...                                                ...     ...   \n",
       "11053  2017  SCIENTIFIC AND TECHNICAL AWARD (Scientific and...    True   \n",
       "11054  2017  SCIENTIFIC AND TECHNICAL AWARD (Technical Achi...    True   \n",
       "11055  2017  SCIENTIFIC AND TECHNICAL AWARD (Technical Achi...    True   \n",
       "11056  2017  SCIENTIFIC AND TECHNICAL AWARD (Technical Achi...    True   \n",
       "11057  2017  SCIENTIFIC AND TECHNICAL AWARD (Technical Achi...    True   \n",
       "\n",
       "                                                  entity  \n",
       "0                                    Richard Barthelmess  \n",
       "1                                          Emil Jannings  \n",
       "2                                         Louise Dresser  \n",
       "3                                           Janet Gaynor  \n",
       "4                                         Gloria Swanson  \n",
       "...                                                  ...  \n",
       "11053  To LEONARD CHAPMAN for the overall concept, de...  \n",
       "11054  To JASON SMITH and JEFF WHITE for the original...  \n",
       "11055  To JOE MANCEWICZ, MATT DERKSEN and HANS RIJPKE...  \n",
       "11056  To ALEX POWELL for his contribution to the des...  \n",
       "11057  To ROB JENSEN for the foundational design and ...  \n",
       "\n",
       "[11058 rows x 4 columns]"
      ]
     },
     "execution_count": 5,
     "metadata": {},
     "output_type": "execute_result"
    }
   ],
   "source": [
    "academy_awards.head(150000)"
   ]
  },
  {
   "cell_type": "code",
   "execution_count": 7,
   "metadata": {},
   "outputs": [
    {
     "data": {
      "text/plain": [
       "DIRECTING                                         439\n",
       "FILM EDITING                                      420\n",
       "ACTOR IN A SUPPORTING ROLE                        410\n",
       "ACTRESS IN A SUPPORTING ROLE                      410\n",
       "DOCUMENTARY (Short Subject)                       358\n",
       "                                                 ... \n",
       "SPECIAL FOREIGN LANGUAGE FILM AWARD                 2\n",
       "DIRECTING (Comedy Picture)                          2\n",
       "SCIENTIFIC AND TECHNICAL AWARD (Special Award)      1\n",
       "SPECIAL ACHIEVEMENT AWARD (Sound Effects)           1\n",
       "SPECIAL ACHIEVEMENT AWARD (Sound Editing)           1\n",
       "Name: category, Length: 124, dtype: int64"
      ]
     },
     "execution_count": 7,
     "metadata": {},
     "output_type": "execute_result"
    }
   ],
   "source": [
    "academy_awards[\"category\"].value_counts()"
   ]
  },
  {
   "cell_type": "code",
   "execution_count": 8,
   "metadata": {},
   "outputs": [
    {
     "data": {
      "text/plain": [
       "year        0\n",
       "category    0\n",
       "winner      0\n",
       "entity      0\n",
       "dtype: int64"
      ]
     },
     "execution_count": 8,
     "metadata": {},
     "output_type": "execute_result"
    }
   ],
   "source": [
    "academy_awards.isna().sum()"
   ]
  },
  {
   "cell_type": "code",
   "execution_count": null,
   "metadata": {},
   "outputs": [],
   "source": []
  }
 ],
 "metadata": {
  "kernelspec": {
   "display_name": "Python 3",
   "language": "python",
   "name": "python3"
  },
  "language_info": {
   "codemirror_mode": {
    "name": "ipython",
    "version": 3
   },
   "file_extension": ".py",
   "mimetype": "text/x-python",
   "name": "python",
   "nbconvert_exporter": "python",
   "pygments_lexer": "ipython3",
   "version": "3.7.4"
  }
 },
 "nbformat": 4,
 "nbformat_minor": 2
}
