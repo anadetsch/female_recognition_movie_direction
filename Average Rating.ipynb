{
 "cells": [
  {
   "cell_type": "code",
   "execution_count": 9,
   "metadata": {},
   "outputs": [],
   "source": [
    "import pandas as pd\n",
    "import pymysql\n",
    "import getpass\n",
    "import matplotlib\n",
    "import matplotlib.pyplot as plt\n",
    "import seaborn as sns\n"
   ]
  },
  {
   "cell_type": "code",
   "execution_count": 2,
   "metadata": {},
   "outputs": [],
   "source": [
    "#Show average movie rating of female vs male directors (top 3 movies av)"
   ]
  },
  {
   "cell_type": "code",
   "execution_count": 4,
   "metadata": {},
   "outputs": [
    {
     "data": {
      "text/html": [
       "<div>\n",
       "<style scoped>\n",
       "    .dataframe tbody tr th:only-of-type {\n",
       "        vertical-align: middle;\n",
       "    }\n",
       "\n",
       "    .dataframe tbody tr th {\n",
       "        vertical-align: top;\n",
       "    }\n",
       "\n",
       "    .dataframe thead th {\n",
       "        text-align: right;\n",
       "    }\n",
       "</style>\n",
       "<table border=\"1\" class=\"dataframe\">\n",
       "  <thead>\n",
       "    <tr style=\"text-align: right;\">\n",
       "      <th></th>\n",
       "      <th>director_name</th>\n",
       "      <th>director_gender</th>\n",
       "      <th>director_id</th>\n",
       "      <th>director_popularity</th>\n",
       "      <th>movie_release_date</th>\n",
       "      <th>movie_vote_average</th>\n",
       "      <th>movie_vote_count</th>\n",
       "      <th>movie_original_language</th>\n",
       "      <th>movie_title</th>\n",
       "      <th>movie_id</th>\n",
       "      <th>director_known_for_department</th>\n",
       "      <th>movie_year</th>\n",
       "    </tr>\n",
       "  </thead>\n",
       "  <tbody>\n",
       "    <tr>\n",
       "      <th>0</th>\n",
       "      <td>George Abbott</td>\n",
       "      <td>male</td>\n",
       "      <td>2004</td>\n",
       "      <td>0.6</td>\n",
       "      <td>1957-08-29</td>\n",
       "      <td>6.3</td>\n",
       "      <td>21.0</td>\n",
       "      <td>en</td>\n",
       "      <td>The Pajama Game</td>\n",
       "      <td>40867.0</td>\n",
       "      <td>Directing</td>\n",
       "      <td>1957-01-01</td>\n",
       "    </tr>\n",
       "    <tr>\n",
       "      <th>1</th>\n",
       "      <td>George Abbott</td>\n",
       "      <td>male</td>\n",
       "      <td>2004</td>\n",
       "      <td>0.6</td>\n",
       "      <td>1958-07-23</td>\n",
       "      <td>6.9</td>\n",
       "      <td>17.0</td>\n",
       "      <td>en</td>\n",
       "      <td>Damn Yankees!</td>\n",
       "      <td>41253.0</td>\n",
       "      <td>Directing</td>\n",
       "      <td>1958-01-01</td>\n",
       "    </tr>\n",
       "    <tr>\n",
       "      <th>2</th>\n",
       "      <td>George Abbott</td>\n",
       "      <td>male</td>\n",
       "      <td>2004</td>\n",
       "      <td>0.6</td>\n",
       "      <td>1931-11-28</td>\n",
       "      <td>6.3</td>\n",
       "      <td>9.0</td>\n",
       "      <td>en</td>\n",
       "      <td>The Cheat</td>\n",
       "      <td>156324.0</td>\n",
       "      <td>Directing</td>\n",
       "      <td>1931-01-01</td>\n",
       "    </tr>\n",
       "    <tr>\n",
       "      <th>4</th>\n",
       "      <td>Jim Abrahams</td>\n",
       "      <td>male</td>\n",
       "      <td>12936</td>\n",
       "      <td>1.456</td>\n",
       "      <td>1980-07-02</td>\n",
       "      <td>7.3</td>\n",
       "      <td>2453.0</td>\n",
       "      <td>en</td>\n",
       "      <td>Airplane!</td>\n",
       "      <td>813.0</td>\n",
       "      <td>Writing</td>\n",
       "      <td>1980-01-01</td>\n",
       "    </tr>\n",
       "    <tr>\n",
       "      <th>5</th>\n",
       "      <td>Jim Abrahams</td>\n",
       "      <td>male</td>\n",
       "      <td>12936</td>\n",
       "      <td>1.456</td>\n",
       "      <td>1988-12-02</td>\n",
       "      <td>7.2</td>\n",
       "      <td>2089.0</td>\n",
       "      <td>en</td>\n",
       "      <td>The Naked Gun: From the Files of Police Squad!</td>\n",
       "      <td>37136.0</td>\n",
       "      <td>Writing</td>\n",
       "      <td>1988-01-01</td>\n",
       "    </tr>\n",
       "  </tbody>\n",
       "</table>\n",
       "</div>"
      ],
      "text/plain": [
       "   director_name director_gender director_id director_popularity  \\\n",
       "0  George Abbott            male        2004                 0.6   \n",
       "1  George Abbott            male        2004                 0.6   \n",
       "2  George Abbott            male        2004                 0.6   \n",
       "4   Jim Abrahams            male       12936               1.456   \n",
       "5   Jim Abrahams            male       12936               1.456   \n",
       "\n",
       "  movie_release_date  movie_vote_average  movie_vote_count  \\\n",
       "0         1957-08-29                 6.3              21.0   \n",
       "1         1958-07-23                 6.9              17.0   \n",
       "2         1931-11-28                 6.3               9.0   \n",
       "4         1980-07-02                 7.3            2453.0   \n",
       "5         1988-12-02                 7.2            2089.0   \n",
       "\n",
       "  movie_original_language                                     movie_title  \\\n",
       "0                      en                                 The Pajama Game   \n",
       "1                      en                                   Damn Yankees!   \n",
       "2                      en                                       The Cheat   \n",
       "4                      en                                       Airplane!   \n",
       "5                      en  The Naked Gun: From the Files of Police Squad!   \n",
       "\n",
       "   movie_id director_known_for_department movie_year  \n",
       "0   40867.0                     Directing 1957-01-01  \n",
       "1   41253.0                     Directing 1958-01-01  \n",
       "2  156324.0                     Directing 1931-01-01  \n",
       "4     813.0                       Writing 1980-01-01  \n",
       "5   37136.0                       Writing 1988-01-01  "
      ]
     },
     "execution_count": 4,
     "metadata": {},
     "output_type": "execute_result"
    }
   ],
   "source": [
    "rating_df = pd.read_pickle(\"df_tmdb.pkl\")\n",
    "\n",
    "rating_df.head()"
   ]
  },
  {
   "cell_type": "code",
   "execution_count": 12,
   "metadata": {},
   "outputs": [
    {
     "data": {
      "text/html": [
       "<div>\n",
       "<style scoped>\n",
       "    .dataframe tbody tr th:only-of-type {\n",
       "        vertical-align: middle;\n",
       "    }\n",
       "\n",
       "    .dataframe tbody tr th {\n",
       "        vertical-align: top;\n",
       "    }\n",
       "\n",
       "    .dataframe thead th {\n",
       "        text-align: right;\n",
       "    }\n",
       "</style>\n",
       "<table border=\"1\" class=\"dataframe\">\n",
       "  <thead>\n",
       "    <tr style=\"text-align: right;\">\n",
       "      <th></th>\n",
       "      <th>movie_vote_average</th>\n",
       "    </tr>\n",
       "    <tr>\n",
       "      <th>director_gender</th>\n",
       "      <th></th>\n",
       "    </tr>\n",
       "  </thead>\n",
       "  <tbody>\n",
       "    <tr>\n",
       "      <th>female</th>\n",
       "      <td>6.381495</td>\n",
       "    </tr>\n",
       "    <tr>\n",
       "      <th>male</th>\n",
       "      <td>6.596799</td>\n",
       "    </tr>\n",
       "  </tbody>\n",
       "</table>\n",
       "</div>"
      ],
      "text/plain": [
       "                 movie_vote_average\n",
       "director_gender                    \n",
       "female                     6.381495\n",
       "male                       6.596799"
      ]
     },
     "execution_count": 12,
     "metadata": {},
     "output_type": "execute_result"
    }
   ],
   "source": [
    "rating_movie=rating_df.groupby(\"director_gender\").mean()[[\"movie_vote_average\"]]\n",
    "\n",
    "rating_movie\n"
   ]
  },
  {
   "cell_type": "code",
   "execution_count": 11,
   "metadata": {},
   "outputs": [
    {
     "data": {
      "image/png": "[encoded data removed]",
      "text/plain": [
       "<Figure size 432x288 with 1 Axes>"
      ]
     },
     "metadata": {
      "needs_background": "light"
     },
     "output_type": "display_data"
    }
   ],
   "source": [
    "rating_movie.plot(kind=\"bar\");\n"
   ]
  },
  {
   "cell_type": "code",
   "execution_count": null,
   "metadata": {},
   "outputs": [],
   "source": []
  }
 ],
 "metadata": {
  "kernelspec": {
   "display_name": "Python 3",
   "language": "python",
   "name": "python3"
  },
  "language_info": {
   "codemirror_mode": {
    "name": "ipython",
    "version": 3
   },
   "file_extension": ".py",
   "mimetype": "text/x-python",
   "name": "python",
   "nbconvert_exporter": "python",
   "pygments_lexer": "ipython3",
   "version": "3.7.6"
  }
 },
 "nbformat": 4,
 "nbformat_minor": 4
}
