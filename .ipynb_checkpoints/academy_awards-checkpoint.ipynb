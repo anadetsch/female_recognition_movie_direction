{
 "cells": [
  {
   "cell_type": "code",
   "execution_count": 1,
   "metadata": {},
   "outputs": [],
   "source": [
    "import pandas as pd\n"
   ]
  },
  {
   "cell_type": "code",
   "execution_count": 2,
   "metadata": {},
   "outputs": [],
   "source": [
    "academy_awards = pd.read_csv(\"academy-awards.csv\")"
   ]
  },
  {
   "cell_type": "code",
   "execution_count": 21,
   "metadata": {
    "scrolled": true
   },
   "outputs": [
    {
     "data": {
      "text/html": [
       "<div>\n",
       "<style scoped>\n",
       "    .dataframe tbody tr th:only-of-type {\n",
       "        vertical-align: middle;\n",
       "    }\n",
       "\n",
       "    .dataframe tbody tr th {\n",
       "        vertical-align: top;\n",
       "    }\n",
       "\n",
       "    .dataframe thead th {\n",
       "        text-align: right;\n",
       "    }\n",
       "</style>\n",
       "<table border=\"1\" class=\"dataframe\">\n",
       "  <thead>\n",
       "    <tr style=\"text-align: right;\">\n",
       "      <th></th>\n",
       "      <th>Year</th>\n",
       "      <th>Ceremony</th>\n",
       "      <th>Award</th>\n",
       "      <th>Winner</th>\n",
       "      <th>Name</th>\n",
       "      <th>Film</th>\n",
       "    </tr>\n",
       "  </thead>\n",
       "  <tbody>\n",
       "    <tr>\n",
       "      <td>0</td>\n",
       "      <td>1927/1928</td>\n",
       "      <td>1</td>\n",
       "      <td>Actor</td>\n",
       "      <td>NaN</td>\n",
       "      <td>Richard Barthelmess</td>\n",
       "      <td>The Noose</td>\n",
       "    </tr>\n",
       "    <tr>\n",
       "      <td>1</td>\n",
       "      <td>1927/1928</td>\n",
       "      <td>1</td>\n",
       "      <td>Actor</td>\n",
       "      <td>1.0</td>\n",
       "      <td>Emil Jannings</td>\n",
       "      <td>The Last Command</td>\n",
       "    </tr>\n",
       "    <tr>\n",
       "      <td>2</td>\n",
       "      <td>1927/1928</td>\n",
       "      <td>1</td>\n",
       "      <td>Actress</td>\n",
       "      <td>NaN</td>\n",
       "      <td>Louise Dresser</td>\n",
       "      <td>A Ship Comes In</td>\n",
       "    </tr>\n",
       "    <tr>\n",
       "      <td>3</td>\n",
       "      <td>1927/1928</td>\n",
       "      <td>1</td>\n",
       "      <td>Actress</td>\n",
       "      <td>1.0</td>\n",
       "      <td>Janet Gaynor</td>\n",
       "      <td>7th Heaven</td>\n",
       "    </tr>\n",
       "    <tr>\n",
       "      <td>4</td>\n",
       "      <td>1927/1928</td>\n",
       "      <td>1</td>\n",
       "      <td>Actress</td>\n",
       "      <td>NaN</td>\n",
       "      <td>Gloria Swanson</td>\n",
       "      <td>Sadie Thompson</td>\n",
       "    </tr>\n",
       "    <tr>\n",
       "      <td>...</td>\n",
       "      <td>...</td>\n",
       "      <td>...</td>\n",
       "      <td>...</td>\n",
       "      <td>...</td>\n",
       "      <td>...</td>\n",
       "      <td>...</td>\n",
       "    </tr>\n",
       "    <tr>\n",
       "      <td>9959</td>\n",
       "      <td>2015</td>\n",
       "      <td>88</td>\n",
       "      <td>Writing (Original Screenplay)</td>\n",
       "      <td>1.0</td>\n",
       "      <td>Spotlight</td>\n",
       "      <td>Written by Josh Singer &amp; Tom McCarthy</td>\n",
       "    </tr>\n",
       "    <tr>\n",
       "      <td>9960</td>\n",
       "      <td>2015</td>\n",
       "      <td>88</td>\n",
       "      <td>Writing (Original Screenplay)</td>\n",
       "      <td>NaN</td>\n",
       "      <td>Straight Outta Compton</td>\n",
       "      <td>Screenplay by Jonathan Herman and Andrea Berlo...</td>\n",
       "    </tr>\n",
       "    <tr>\n",
       "      <td>9961</td>\n",
       "      <td>2015</td>\n",
       "      <td>88</td>\n",
       "      <td>Jean Hersholt Humanitarian Award</td>\n",
       "      <td>1.0</td>\n",
       "      <td>Debbie Reynolds</td>\n",
       "      <td>NaN</td>\n",
       "    </tr>\n",
       "    <tr>\n",
       "      <td>9962</td>\n",
       "      <td>2015</td>\n",
       "      <td>88</td>\n",
       "      <td>Honorary Award</td>\n",
       "      <td>1.0</td>\n",
       "      <td>Spike Lee</td>\n",
       "      <td>NaN</td>\n",
       "    </tr>\n",
       "    <tr>\n",
       "      <td>9963</td>\n",
       "      <td>2015</td>\n",
       "      <td>88</td>\n",
       "      <td>Honorary Award</td>\n",
       "      <td>1.0</td>\n",
       "      <td>Gena Rowlands</td>\n",
       "      <td>NaN</td>\n",
       "    </tr>\n",
       "  </tbody>\n",
       "</table>\n",
       "<p>9964 rows × 6 columns</p>\n",
       "</div>"
      ],
      "text/plain": [
       "           Year  Ceremony                             Award  Winner  \\\n",
       "0     1927/1928         1                             Actor     NaN   \n",
       "1     1927/1928         1                             Actor     1.0   \n",
       "2     1927/1928         1                           Actress     NaN   \n",
       "3     1927/1928         1                           Actress     1.0   \n",
       "4     1927/1928         1                           Actress     NaN   \n",
       "...         ...       ...                               ...     ...   \n",
       "9959       2015        88     Writing (Original Screenplay)     1.0   \n",
       "9960       2015        88     Writing (Original Screenplay)     NaN   \n",
       "9961       2015        88  Jean Hersholt Humanitarian Award     1.0   \n",
       "9962       2015        88                    Honorary Award     1.0   \n",
       "9963       2015        88                    Honorary Award     1.0   \n",
       "\n",
       "                        Name  \\\n",
       "0        Richard Barthelmess   \n",
       "1              Emil Jannings   \n",
       "2             Louise Dresser   \n",
       "3               Janet Gaynor   \n",
       "4             Gloria Swanson   \n",
       "...                      ...   \n",
       "9959               Spotlight   \n",
       "9960  Straight Outta Compton   \n",
       "9961         Debbie Reynolds   \n",
       "9962               Spike Lee   \n",
       "9963           Gena Rowlands   \n",
       "\n",
       "                                                   Film  \n",
       "0                                             The Noose  \n",
       "1                                      The Last Command  \n",
       "2                                       A Ship Comes In  \n",
       "3                                            7th Heaven  \n",
       "4                                        Sadie Thompson  \n",
       "...                                                 ...  \n",
       "9959              Written by Josh Singer & Tom McCarthy  \n",
       "9960  Screenplay by Jonathan Herman and Andrea Berlo...  \n",
       "9961                                                NaN  \n",
       "9962                                                NaN  \n",
       "9963                                                NaN  \n",
       "\n",
       "[9964 rows x 6 columns]"
      ]
     },
     "execution_count": 21,
     "metadata": {},
     "output_type": "execute_result"
    }
   ],
   "source": [
    "academy_awards.head(110000)"
   ]
  },
  {
   "cell_type": "code",
   "execution_count": 4,
   "metadata": {},
   "outputs": [
    {
     "data": {
      "text/plain": [
       "Directing                                    429\n",
       "Film Editing                                 410\n",
       "Actress in a Supporting Role                 400\n",
       "Actor in a Supporting Role                   400\n",
       "Documentary (Short Subject)                  348\n",
       "                                            ... \n",
       "Special Achievement Award                      3\n",
       "Directing (Comedy Picture)                     2\n",
       "Special Foreign Language Film Award            2\n",
       "Special Achievement Award (Sound Effects)      1\n",
       "Special Achievement Award (Sound Editing)      1\n",
       "Name: Award, Length: 114, dtype: int64"
      ]
     },
     "execution_count": 4,
     "metadata": {},
     "output_type": "execute_result"
    }
   ],
   "source": [
    "academy_awards[\"Award\"].value_counts()"
   ]
  },
  {
   "cell_type": "code",
   "execution_count": 22,
   "metadata": {},
   "outputs": [
    {
     "data": {
      "text/plain": [
       "Year           0\n",
       "Ceremony       0\n",
       "Award          0\n",
       "Winner      7643\n",
       "Name           0\n",
       "Film         333\n",
       "dtype: int64"
      ]
     },
     "execution_count": 22,
     "metadata": {},
     "output_type": "execute_result"
    }
   ],
   "source": [
    "academy_awards.isna().sum()"
   ]
  },
  {
   "cell_type": "code",
   "execution_count": 15,
   "metadata": {},
   "outputs": [
    {
     "data": {
      "text/plain": [
       "15    186\n",
       "14    183\n",
       "16    182\n",
       "17    169\n",
       "13    160\n",
       "     ... \n",
       "5      45\n",
       "4      44\n",
       "3      42\n",
       "2      38\n",
       "1      35\n",
       "Name: Ceremony, Length: 88, dtype: int64"
      ]
     },
     "execution_count": 15,
     "metadata": {},
     "output_type": "execute_result"
    }
   ],
   "source": [
    "academy_awards[\"Ceremony\"].value_counts()"
   ]
  },
  {
   "cell_type": "code",
   "execution_count": null,
   "metadata": {},
   "outputs": [],
   "source": []
  }
 ],
 "metadata": {
  "kernelspec": {
   "display_name": "Python 3",
   "language": "python",
   "name": "python3"
  },
  "language_info": {
   "codemirror_mode": {
    "name": "ipython",
    "version": 3
   },
   "file_extension": ".py",
   "mimetype": "text/x-python",
   "name": "python",
   "nbconvert_exporter": "python",
   "pygments_lexer": "ipython3",
   "version": "3.7.4"
  }
 },
 "nbformat": 4,
 "nbformat_minor": 2
}
