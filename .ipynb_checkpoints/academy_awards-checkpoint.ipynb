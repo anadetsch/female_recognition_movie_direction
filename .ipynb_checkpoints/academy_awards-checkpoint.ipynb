{
 "cells": [
  {
   "cell_type": "code",
   "execution_count": 1,
   "metadata": {},
   "outputs": [],
   "source": [
    "import pandas as pd\n"
   ]
  },
  {
   "cell_type": "code",
   "execution_count": 2,
   "metadata": {},
   "outputs": [],
   "source": [
    "academy_awards = pd.read_excel(\"academy_awards_excel.xlsx\", sheet_name = 1)"
   ]
  },
  {
   "cell_type": "code",
   "execution_count": 3,
   "metadata": {
    "scrolled": true
   },
   "outputs": [
    {
     "data": {
      "text/html": [
       "<div>\n",
       "<style scoped>\n",
       "    .dataframe tbody tr th:only-of-type {\n",
       "        vertical-align: middle;\n",
       "    }\n",
       "\n",
       "    .dataframe tbody tr th {\n",
       "        vertical-align: top;\n",
       "    }\n",
       "\n",
       "    .dataframe thead th {\n",
       "        text-align: right;\n",
       "    }\n",
       "</style>\n",
       "<table border=\"1\" class=\"dataframe\">\n",
       "  <thead>\n",
       "    <tr style=\"text-align: right;\">\n",
       "      <th></th>\n",
       "      <th>Year</th>\n",
       "      <th>Award</th>\n",
       "      <th>Winner</th>\n",
       "      <th>Film</th>\n",
       "      <th>Nominee</th>\n",
       "    </tr>\n",
       "  </thead>\n",
       "  <tbody>\n",
       "    <tr>\n",
       "      <td>0</td>\n",
       "      <td>1928</td>\n",
       "      <td>Directing (Comedy Picture)</td>\n",
       "      <td>True</td>\n",
       "      <td>Two Arabian Knights</td>\n",
       "      <td>Lewis Milestone</td>\n",
       "    </tr>\n",
       "    <tr>\n",
       "      <td>1</td>\n",
       "      <td>1928</td>\n",
       "      <td>Directing (Comedy Picture)</td>\n",
       "      <td>False</td>\n",
       "      <td>Speedy</td>\n",
       "      <td>Ted Wilde</td>\n",
       "    </tr>\n",
       "    <tr>\n",
       "      <td>2</td>\n",
       "      <td>1928</td>\n",
       "      <td>Directing (Dramatic Picture)</td>\n",
       "      <td>True</td>\n",
       "      <td>7th Heaven</td>\n",
       "      <td>Frank Borzage</td>\n",
       "    </tr>\n",
       "    <tr>\n",
       "      <td>3</td>\n",
       "      <td>1928</td>\n",
       "      <td>Directing (Dramatic Picture)</td>\n",
       "      <td>False</td>\n",
       "      <td>Sorrell and Son</td>\n",
       "      <td>Herbert Brenon</td>\n",
       "    </tr>\n",
       "    <tr>\n",
       "      <td>4</td>\n",
       "      <td>1928</td>\n",
       "      <td>Directing (Dramatic Picture)</td>\n",
       "      <td>False</td>\n",
       "      <td>The Crowd</td>\n",
       "      <td>King Vidor</td>\n",
       "    </tr>\n",
       "    <tr>\n",
       "      <td>...</td>\n",
       "      <td>...</td>\n",
       "      <td>...</td>\n",
       "      <td>...</td>\n",
       "      <td>...</td>\n",
       "      <td>...</td>\n",
       "    </tr>\n",
       "    <tr>\n",
       "      <td>449</td>\n",
       "      <td>2019</td>\n",
       "      <td>Directing</td>\n",
       "      <td>True</td>\n",
       "      <td>Parasite</td>\n",
       "      <td>Bong Joon-ho\\t</td>\n",
       "    </tr>\n",
       "    <tr>\n",
       "      <td>450</td>\n",
       "      <td>2019</td>\n",
       "      <td>Directing</td>\n",
       "      <td>False</td>\n",
       "      <td>1917</td>\n",
       "      <td>Sam Mendes\\t</td>\n",
       "    </tr>\n",
       "    <tr>\n",
       "      <td>451</td>\n",
       "      <td>2019</td>\n",
       "      <td>Directing</td>\n",
       "      <td>False</td>\n",
       "      <td>Joker</td>\n",
       "      <td>Todd Phillips\\t</td>\n",
       "    </tr>\n",
       "    <tr>\n",
       "      <td>452</td>\n",
       "      <td>2019</td>\n",
       "      <td>Directing</td>\n",
       "      <td>False</td>\n",
       "      <td>The Irishman</td>\n",
       "      <td>Martin Scorsese\\t</td>\n",
       "    </tr>\n",
       "    <tr>\n",
       "      <td>453</td>\n",
       "      <td>2019</td>\n",
       "      <td>Directing</td>\n",
       "      <td>False</td>\n",
       "      <td>Once Upon a Time in Hollywood</td>\n",
       "      <td>Quentin Tarantino\\t</td>\n",
       "    </tr>\n",
       "  </tbody>\n",
       "</table>\n",
       "<p>454 rows × 5 columns</p>\n",
       "</div>"
      ],
      "text/plain": [
       "     Year                         Award  Winner  \\\n",
       "0    1928    Directing (Comedy Picture)    True   \n",
       "1    1928    Directing (Comedy Picture)   False   \n",
       "2    1928  Directing (Dramatic Picture)    True   \n",
       "3    1928  Directing (Dramatic Picture)   False   \n",
       "4    1928  Directing (Dramatic Picture)   False   \n",
       "..    ...                           ...     ...   \n",
       "449  2019                     Directing    True   \n",
       "450  2019                     Directing   False   \n",
       "451  2019                     Directing   False   \n",
       "452  2019                     Directing   False   \n",
       "453  2019                     Directing   False   \n",
       "\n",
       "                              Film              Nominee  \n",
       "0              Two Arabian Knights      Lewis Milestone  \n",
       "1                           Speedy            Ted Wilde  \n",
       "2                       7th Heaven        Frank Borzage  \n",
       "3                  Sorrell and Son       Herbert Brenon  \n",
       "4                        The Crowd           King Vidor  \n",
       "..                             ...                  ...  \n",
       "449                       Parasite       Bong Joon-ho\\t  \n",
       "450                           1917         Sam Mendes\\t  \n",
       "451                          Joker      Todd Phillips\\t  \n",
       "452                   The Irishman    Martin Scorsese\\t  \n",
       "453  Once Upon a Time in Hollywood  Quentin Tarantino\\t  \n",
       "\n",
       "[454 rows x 5 columns]"
      ]
     },
     "execution_count": 3,
     "metadata": {},
     "output_type": "execute_result"
    }
   ],
   "source": [
    "academy_awards.head(500)"
   ]
  },
  {
   "cell_type": "code",
   "execution_count": 4,
   "metadata": {},
   "outputs": [
    {
     "data": {
      "text/plain": [
       "Directing                       449\n",
       "Directing (Dramatic Picture)      3\n",
       "Directing (Comedy Picture)        2\n",
       "Name: Award, dtype: int64"
      ]
     },
     "execution_count": 4,
     "metadata": {},
     "output_type": "execute_result"
    }
   ],
   "source": [
    "academy_awards[\"Award\"].value_counts()"
   ]
  },
  {
   "cell_type": "code",
   "execution_count": 5,
   "metadata": {},
   "outputs": [
    {
     "data": {
      "text/plain": [
       "Year       0\n",
       "Award      0\n",
       "Winner     0\n",
       "Film       0\n",
       "Nominee    0\n",
       "dtype: int64"
      ]
     },
     "execution_count": 5,
     "metadata": {},
     "output_type": "execute_result"
    }
   ],
   "source": [
    "academy_awards.isna().sum()"
   ]
  },
  {
   "cell_type": "code",
   "execution_count": 6,
   "metadata": {},
   "outputs": [
    {
     "data": {
      "text/plain": [
       "False    360\n",
       "True      94\n",
       "Name: Winner, dtype: int64"
      ]
     },
     "execution_count": 6,
     "metadata": {},
     "output_type": "execute_result"
    }
   ],
   "source": [
    "academy_awards[\"Winner\"].value_counts()"
   ]
  },
  {
   "cell_type": "code",
   "execution_count": 9,
   "metadata": {},
   "outputs": [],
   "source": [
    "academy_awards.insert(loc = 5, column = \"Type\", value = \"Academy Award\")"
   ]
  },
  {
   "cell_type": "code",
   "execution_count": 10,
   "metadata": {},
   "outputs": [
    {
     "data": {
      "text/html": [
       "<div>\n",
       "<style scoped>\n",
       "    .dataframe tbody tr th:only-of-type {\n",
       "        vertical-align: middle;\n",
       "    }\n",
       "\n",
       "    .dataframe tbody tr th {\n",
       "        vertical-align: top;\n",
       "    }\n",
       "\n",
       "    .dataframe thead th {\n",
       "        text-align: right;\n",
       "    }\n",
       "</style>\n",
       "<table border=\"1\" class=\"dataframe\">\n",
       "  <thead>\n",
       "    <tr style=\"text-align: right;\">\n",
       "      <th></th>\n",
       "      <th>Year</th>\n",
       "      <th>Award</th>\n",
       "      <th>Winner</th>\n",
       "      <th>Film</th>\n",
       "      <th>Nominee</th>\n",
       "      <th>Type</th>\n",
       "    </tr>\n",
       "  </thead>\n",
       "  <tbody>\n",
       "    <tr>\n",
       "      <td>0</td>\n",
       "      <td>1928</td>\n",
       "      <td>Directing (Comedy Picture)</td>\n",
       "      <td>True</td>\n",
       "      <td>Two Arabian Knights</td>\n",
       "      <td>Lewis Milestone</td>\n",
       "      <td>Academy Award</td>\n",
       "    </tr>\n",
       "    <tr>\n",
       "      <td>1</td>\n",
       "      <td>1928</td>\n",
       "      <td>Directing (Comedy Picture)</td>\n",
       "      <td>False</td>\n",
       "      <td>Speedy</td>\n",
       "      <td>Ted Wilde</td>\n",
       "      <td>Academy Award</td>\n",
       "    </tr>\n",
       "    <tr>\n",
       "      <td>2</td>\n",
       "      <td>1928</td>\n",
       "      <td>Directing (Dramatic Picture)</td>\n",
       "      <td>True</td>\n",
       "      <td>7th Heaven</td>\n",
       "      <td>Frank Borzage</td>\n",
       "      <td>Academy Award</td>\n",
       "    </tr>\n",
       "    <tr>\n",
       "      <td>3</td>\n",
       "      <td>1928</td>\n",
       "      <td>Directing (Dramatic Picture)</td>\n",
       "      <td>False</td>\n",
       "      <td>Sorrell and Son</td>\n",
       "      <td>Herbert Brenon</td>\n",
       "      <td>Academy Award</td>\n",
       "    </tr>\n",
       "    <tr>\n",
       "      <td>4</td>\n",
       "      <td>1928</td>\n",
       "      <td>Directing (Dramatic Picture)</td>\n",
       "      <td>False</td>\n",
       "      <td>The Crowd</td>\n",
       "      <td>King Vidor</td>\n",
       "      <td>Academy Award</td>\n",
       "    </tr>\n",
       "    <tr>\n",
       "      <td>...</td>\n",
       "      <td>...</td>\n",
       "      <td>...</td>\n",
       "      <td>...</td>\n",
       "      <td>...</td>\n",
       "      <td>...</td>\n",
       "      <td>...</td>\n",
       "    </tr>\n",
       "    <tr>\n",
       "      <td>449</td>\n",
       "      <td>2019</td>\n",
       "      <td>Directing</td>\n",
       "      <td>True</td>\n",
       "      <td>Parasite</td>\n",
       "      <td>Bong Joon-ho\\t</td>\n",
       "      <td>Academy Award</td>\n",
       "    </tr>\n",
       "    <tr>\n",
       "      <td>450</td>\n",
       "      <td>2019</td>\n",
       "      <td>Directing</td>\n",
       "      <td>False</td>\n",
       "      <td>1917</td>\n",
       "      <td>Sam Mendes\\t</td>\n",
       "      <td>Academy Award</td>\n",
       "    </tr>\n",
       "    <tr>\n",
       "      <td>451</td>\n",
       "      <td>2019</td>\n",
       "      <td>Directing</td>\n",
       "      <td>False</td>\n",
       "      <td>Joker</td>\n",
       "      <td>Todd Phillips\\t</td>\n",
       "      <td>Academy Award</td>\n",
       "    </tr>\n",
       "    <tr>\n",
       "      <td>452</td>\n",
       "      <td>2019</td>\n",
       "      <td>Directing</td>\n",
       "      <td>False</td>\n",
       "      <td>The Irishman</td>\n",
       "      <td>Martin Scorsese\\t</td>\n",
       "      <td>Academy Award</td>\n",
       "    </tr>\n",
       "    <tr>\n",
       "      <td>453</td>\n",
       "      <td>2019</td>\n",
       "      <td>Directing</td>\n",
       "      <td>False</td>\n",
       "      <td>Once Upon a Time in Hollywood</td>\n",
       "      <td>Quentin Tarantino\\t</td>\n",
       "      <td>Academy Award</td>\n",
       "    </tr>\n",
       "  </tbody>\n",
       "</table>\n",
       "<p>454 rows × 6 columns</p>\n",
       "</div>"
      ],
      "text/plain": [
       "     Year                         Award  Winner  \\\n",
       "0    1928    Directing (Comedy Picture)    True   \n",
       "1    1928    Directing (Comedy Picture)   False   \n",
       "2    1928  Directing (Dramatic Picture)    True   \n",
       "3    1928  Directing (Dramatic Picture)   False   \n",
       "4    1928  Directing (Dramatic Picture)   False   \n",
       "..    ...                           ...     ...   \n",
       "449  2019                     Directing    True   \n",
       "450  2019                     Directing   False   \n",
       "451  2019                     Directing   False   \n",
       "452  2019                     Directing   False   \n",
       "453  2019                     Directing   False   \n",
       "\n",
       "                              Film              Nominee           Type  \n",
       "0              Two Arabian Knights      Lewis Milestone  Academy Award  \n",
       "1                           Speedy            Ted Wilde  Academy Award  \n",
       "2                       7th Heaven        Frank Borzage  Academy Award  \n",
       "3                  Sorrell and Son       Herbert Brenon  Academy Award  \n",
       "4                        The Crowd           King Vidor  Academy Award  \n",
       "..                             ...                  ...            ...  \n",
       "449                       Parasite       Bong Joon-ho\\t  Academy Award  \n",
       "450                           1917         Sam Mendes\\t  Academy Award  \n",
       "451                          Joker      Todd Phillips\\t  Academy Award  \n",
       "452                   The Irishman    Martin Scorsese\\t  Academy Award  \n",
       "453  Once Upon a Time in Hollywood  Quentin Tarantino\\t  Academy Award  \n",
       "\n",
       "[454 rows x 6 columns]"
      ]
     },
     "execution_count": 10,
     "metadata": {},
     "output_type": "execute_result"
    }
   ],
   "source": [
    "academy_awards"
   ]
  },
  {
   "cell_type": "code",
   "execution_count": 11,
   "metadata": {},
   "outputs": [],
   "source": [
    "academy_awards.to_csv(\"academy_award_df.csv\", index = False)"
   ]
  },
  {
   "cell_type": "code",
   "execution_count": null,
   "metadata": {},
   "outputs": [],
   "source": []
  }
 ],
 "metadata": {
  "kernelspec": {
   "display_name": "Python 3",
   "language": "python",
   "name": "python3"
  },
  "language_info": {
   "codemirror_mode": {
    "name": "ipython",
    "version": 3
   },
   "file_extension": ".py",
   "mimetype": "text/x-python",
   "name": "python",
   "nbconvert_exporter": "python",
   "pygments_lexer": "ipython3",
   "version": "3.7.4"
  }
 },
 "nbformat": 4,
 "nbformat_minor": 2
}
